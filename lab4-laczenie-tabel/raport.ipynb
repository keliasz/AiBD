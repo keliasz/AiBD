{
 "cells": [
  {
   "cell_type": "markdown",
   "metadata": {},
   "source": [
    "# <center>Laboratorium Analiza i bazy danych </center>\n",
    "\n",
    "## <center>Łączenie tabel, podzapytania i funkcje agregujące</center>"
   ]
  },
  {
   "cell_type": "markdown",
   "metadata": {},
   "source": [
    "## Przykładowe tabele obrazujące łączenie\n",
    "\n",
    "Do zobrazowania operacji łączenia zostaną użyte tabele:\n",
    "\n",
    "```sql\n",
    "CREATE TABLE shape_a (\n",
    "    id INT PRIMARY KEY,\n",
    "    shape VARCHAR (100) NOT NULL\n",
    ");\n",
    " \n",
    "CREATE TABLE shape_b (\n",
    "    id INT PRIMARY KEY,\n",
    "    shape VARCHAR (100) NOT NULL\n",
    ");\n",
    "```\n",
    " \n",
    "Polecenie CREATE TABLE tworzy tabelę o zadanej nazwie i strukturze. Ogólna postać to:\n",
    "```sql\n",
    "CREATE TABLE tab_name (\n",
    "    col_name1 data_type constrain,\n",
    "    col_name1 data_type constrain,\n",
    "    ...\n",
    ");\n",
    "```\n",
    "Należy uzupełnić ją danymi:\n",
    "```sql\n",
    "INSERT INTO shape_a (id, shape)\n",
    "VALUES\n",
    "    (1, 'Trójkąt'),\n",
    "    (2, 'Kwadrat'),\n",
    "    (3, 'Deltoid'),\n",
    "    (4, 'Traper');\n",
    " \n",
    "INSERT INTO shape_b (id, shape)\n",
    "VALUES\n",
    "    (1, 'Kwadrat'),\n",
    "    (2, 'Trójkąt'),\n",
    "    (3, 'Romb'),\n",
    "    (4, 'Równoległobok');\n",
    "```\n",
    "Komenda INSERT INTO pozwala na dodanie do tabeli rekordów. Ogólna postać to:\n",
    "\n",
    "```sql\n",
    "INSERT INTO tab_name (col1_name, col2_name2, ...) \n",
    "VALUES\n",
    "    (val1_col1, val2_col2),\n",
    "    (val2_col1, val2_col2),\n",
    "    ...\n",
    "```"
   ]
  },
  {
   "cell_type": "markdown",
   "metadata": {},
   "source": [
    "## Inner join \n",
    "\n",
    "Jest to podstawowy rodzaj złączenie. Ten sposób złączenia wybiera  te wiersze, dla których warunek złączenia jest spełniony. W żadnej z łączonych tabel kolumna użyta do łączenia nie może mieć wartości NULL. \n",
    "\n",
    "#### Przykład:\n",
    "```sql\n",
    "SELECT\n",
    "    a.id id_a,\n",
    "    a.shape shape_a,\n",
    "    b.id id_b,\n",
    "    b.shape shape_b\n",
    "FROM\n",
    "    shape_a a\n",
    "INNER JOIN shape_b b ON a.shape = b.shape;\n",
    "```\n",
    "W zapytaniu powyżej użyto *aliasów* nazw tabel i column wynikowych, jest to szczególnie przydatne przy długich nazwach tabel i wprowadza czytelność w zapytaniu.\n",
    "\n",
    "#### Wynik:\n",
    "|id_a|shape_a|id_b|shape_b|\n",
    "|-|-|-|-|\n",
    "|1|Trójkąt|2|Trójkąt|\n",
    "|2|Kwadrat|1|Kwadrat|"
   ]
  },
  {
   "cell_type": "markdown",
   "metadata": {},
   "source": [
    "## OUTER JOIN\n",
    "\n",
    "Istnieją trzy rodzaje złączeń OUTER:\n",
    "- LEFT OUTER JOIN,\n",
    "- RIGHT OUTER JOIN,\n",
    "- FULL OUTER JOIN.\n",
    "\n",
    "### LEFT OUTER JOIN\n",
    "\n",
    "Ten rodzaj złączenie zwróci wszystkie rekordy z lewej tablicy i dopasuje do nich rekordy z prawej tablicy które spełniją zadany warunek złączenia. Jeżeli w prawej tablicy nie występują rekordy spełnijące warunek złączenia z lewą w ich miejscu pojawią się wartości NULL.\n",
    "\n",
    "#### Przykład 1:\n",
    "```sql\n",
    "SELECT\n",
    "    a.id id_a,\n",
    "    a.shape shape_a,\n",
    "    b.id id_b,\n",
    "    b.shape shape_b\n",
    "FROM\n",
    "    shape_a a\n",
    "LEFT JOIN shape_b b ON a.shape = b.shape;\n",
    "```\n",
    "#### Wynik:\n",
    "|id_a|shape_a|id_b|shape_b|\n",
    "|-|-|-|-|\n",
    "|1|Trójkąt|2|Trójkąt|\n",
    "|2|Kwadrat|1|Kwadrat|\n",
    "|3|Deltoid|NULL|NULL|\n",
    "|4|Traper|NULL|NULL|\n",
    "\n",
    "#### Przykład 2:\n",
    "```sql\n",
    "SELECT\n",
    "    b.id id_b,\n",
    "    b.shape shape_b,\n",
    "    a.id id_a,\n",
    "    a.shape shape_a   \n",
    "FROM\n",
    "    shape_b b\n",
    "LEFT JOIN shape_a a ON a.shape = b.shape;\n",
    "```\n",
    "#### Wynik:\n",
    "|id_a|shape_a|id_b|shape_b|\n",
    "|-|-|-|-|\n",
    "|1|Kwadrat|2|Kwadrat|\n",
    "|2|Trójkąt|1|Trójkąt|\n",
    "|3|Romb|NULL|NULL|\n",
    "|4|Równoległobok|NULL|NULL|\n",
    "\n",
    "### RIGHT OUTER JOIN\n",
    "\n",
    "Działa jak left outer join z tym, że prawa tablica w zapytaniu jest brana w całości.\n",
    "\n",
    "#### Przykład:\n",
    "```sql\n",
    "SELECT\n",
    "    a.id id_a,\n",
    "    a.shape shape_a,\n",
    "    b.id id_b,\n",
    "    b.shape shape_b\n",
    "FROM\n",
    "    shape_a a\n",
    "RIGHT JOIN shape_b b ON a.shape = b.shape;\n",
    "```\n",
    "\n",
    "#### Wynik:\n",
    "|id_a|shape_a|id_b|shape_b|\n",
    "|-|-|-|-|\n",
    "|2|Kwadrat|1|Kwadrat|\n",
    "|1|Trójkąt|2|Trójkąt|\n",
    "|NULL|NULL|3|Romb|\n",
    "|NULL|NULL|4|Równoległobok|\n",
    "\n",
    "\n",
    "### FULL OUTER JOIN\n",
    "\n",
    "Jest złączeniem które zwraca:\n",
    "- wiersze dla których warunek złączenia jest spełniony,\n",
    "- wiersze z lewej tabeli dla których nie ma odpowiedników w prawej,\n",
    "- wiersze z prawej tabeli dla których nie ma odpowiedników w lewej. \n",
    "\n",
    "#### Przykład:\n",
    "```sql\n",
    "SELECT\n",
    "    a.id id_a,\n",
    "    a.shape shape_a,\n",
    "    b.id id_b,\n",
    "    b.shape shape_b\n",
    "FROM\n",
    "    shape_a a\n",
    "FULL JOIN shape_b b ON a.shape = b.shape;\n",
    "```\n",
    "|id_a|shape_a|id_b|shape_b|\n",
    "|-|-|-|-|\n",
    "|1|Trójkąt|2|Trójkąt|\n",
    "|2|Kwadrat|1|Kwadrat|\n",
    "|3|Deltoid\"|NULL|NULL|\n",
    "|4|Traper|NULL|NULL|\n",
    "|NULL|NULL|3|Romb|\n",
    "|NULL|NULL|4|Równoległobok|"
   ]
  },
  {
   "cell_type": "markdown",
   "metadata": {},
   "source": [
    "## Podzapytania\n",
    "\n",
    "Podzapytanie zagnieżdżone SELECT znajduje się wewnątrz zewnętrznego zapytania SELECT, np. po klauzuli WHERE, HAVING lub FROM. W przypadku tego rodzaju zapytań w pierwszej kolejności wykonywane są wewnętrzne zapytania SELECT, a ich wynik jest wykorzystywany do zewnętrznego zapytania SELECT. Stąd łatwo zuważyć, że mogą one służyć do poprawy wydajności obsługi zapytania. Należy dobierać podzapytania tak by najbardziej zagnieżdżone podzapytanie zawierało najmniejszy zbiór poszukiwań. \n",
    "\n",
    "#### Przykład:\n",
    "Jeżeli chcemy znaleźć w bazie informację o tytułach filmów zwróconych w zadanym okresie możemy wykonać następujące zapytanie:\n",
    "```sql\n",
    "SELECT\n",
    "   film_id,\n",
    "   title\n",
    "FROM\n",
    "   film\n",
    "WHERE\n",
    "   film_id IN (\n",
    "      SELECT\n",
    "         inventory.film_id\n",
    "      FROM\n",
    "         rental\n",
    "      INNER JOIN inventory ON inventory.inventory_id = rental.inventory_id\n",
    "      WHERE\n",
    "         return_date BETWEEN '2005-05-29'\n",
    "      AND '2005-05-30'\n",
    "   );\n",
    "```\n",
    "\n",
    "#### Wynik\n",
    "|film_id|title|\n",
    "|-|-|\n",
    "|307|Fellowship Autumn|\n",
    "|255|Driving Polish|\n",
    "|388|Gunfight Moon|\n",
    "|130|Celebrity Horn|\n",
    "|563|Massacre Usual|\n",
    "|397|Hanky October|\n",
    "|...|...|\n",
    "\n",
    "### Używanie podzapytań\n",
    "\n",
    "Pod zapytania mogą być używane w :\n",
    "- SELECT,\n",
    "- UPDATE,\n",
    "- DELETE,\n",
    "- Funkcjach agregujących,\n",
    "- Do definiowania tabel tymczasowych.\n",
    "\n",
    "Używając podzapytań zapytania SQL szybko mogą stać się mało czytelne. Przez co będą trudne w zrozumieniu i późniejszym utrzymaniu. W celu analizy zapytań można użyć klauzuli __EXPLAIN__, która przeanalizuje zapytanie. Klauzula ta może służyć również do porównywania wydajności zapytań\n",
    "\n",
    "#### Przykład:\n",
    "```sql\n",
    "EXPLAIN SELECT\n",
    "   *\n",
    "FROM\n",
    "   film\n",
    "```"
   ]
  },
  {
   "cell_type": "markdown",
   "metadata": {},
   "source": [
    "## Funkcje agregujące\n",
    "\n",
    "Funkcje agregujące wykonują obliczenia na zestawie wierszy i zwracają pojedynczy wiersz. PostgreSQL udostępnia wszystkie standardowe funkcje agregujące SQL w następujący sposób:\n",
    "- AVG () - zwraca średnią wartość.\n",
    "- COUNT () - zwraca liczbę wartości.\n",
    "- MAX () - zwraca maksymalną wartość.\n",
    "- MIN () - zwraca minimalną wartość.\n",
    "- SUM () - zwraca sumę wszystkich lub różnych wartości.\n",
    "\n",
    "Pełna lista funkcji agregującej: https://www.postgresql.org/docs/9.5/functions-aggregate.html\n",
    "\n",
    "Często używamy funkcji agregujących z klauzulą GROUP BY w instrukcji SELECT. W tych przypadkach klauzula GROUP BY dzieli zestaw wyników na grupy wierszy i funkcja agregująca wykonuje obliczenia dla każdej grupy, np. maksimum, minimum, średnia itp. Funkcji agregujących można używać funkcji agregujących jako wyrażeń tylko w następujących klauzulach: SELECT i HAVING.\n",
    "\n",
    "### GROUP BY\n",
    "Klauzula GROUP BY dzieli wiersze zwrócone z instrukcji SELECT na grupy. Dla  każdej grupy można zastosować funkcję agregującą, np. SUM aby obliczyć sumę pozycji lub\n",
    "COUNT aby uzyskać liczbę elementów w grupach.\n",
    "\n",
    "Poniższa instrukcja ilustruje składnię klauzuli GROUP BY:\n",
    "```sql\n",
    "SELECT \n",
    "    column_1, \n",
    "    aggregate_function(column_2)\n",
    "FROM \n",
    "    tbl_name\n",
    "GROUP BY \n",
    "    column_1;\n",
    "```\n",
    "Klauzula GROUP BY musi pojawić się zaraz po klauzuli FROM lub WHERE, n0astępnie GROUP BY zawiera listę  kolumna oddzielonych przecinkami. \n",
    "\n",
    "### HAVING\n",
    "Często używamy klauzuli HAVING w połączeniu z klauzulą GROUP BY do filtrowania wierszy grup\n",
    "które nie spełniają określonego warunku.\n",
    "\n",
    "Poniższa instrukcja ilustruje typową składnię klauzuli HAVING:\n",
    "```sql\n",
    "SELECT\n",
    "    column_1,\n",
    "    aggregate_function (column_2)\n",
    "FROM\n",
    "    tbl_name\n",
    "GROUP BY\n",
    "    column_1\n",
    "HAVING\n",
    "    condition;\n",
    "```\n",
    "Klauzula HAVING ustawia warunek dla wierszy grup utworzonych przez klauzulę GROUP BY.  \n",
    "\n",
    "Klauzula GROUP BY ma zastosowanie, podczas gdy klauzula WHERE określa wcześniej warunki dla poszczególnych wierszy."
   ]
  },
  {
   "cell_type": "markdown",
   "metadata": {},
   "source": [
    "## Zadania wprowadzające\n",
    "Wykonaj zapytania przy użyciu DBMS:  \n",
    "  \n",
    "1. Znajdź listę wszystkich filmów o tej samej długości.\n",
    "2. Znajdź wszystkich klientów mieszkających w tym samym mieście.\n",
    "3. Oblicz średni koszt wypożyczenia wszystkich filmów.\n",
    "4. Oblicz i wyświetl liczbę filmów we wszystkich kategoriach.\n",
    "5. Wyświetl liczbę wszystkich klientów pogrupowanych według kraju.\n",
    "6. Wyświetl informacje o sklepie, który ma więcej niż 100 klientów i mniej niż 300 klientów.\n",
    "7. Wybierz wszystkich klientów, którzy oglądali filmy ponad 200 godzin.\n",
    "8. Oblicz średnią wartość wypożyczenia filmu.\n",
    "9. Oblicz średnią wartość długości filmu we wszystkich kategoriach.\n",
    "10. Znajdź najdłuższe tytuły filmowe we wszystkich kategoriach.\n",
    "11. Znajdź najdłuższy film we wszystkich kategoriach. Porównaj wynik z pkt 10."
   ]
  },
  {
   "cell_type": "markdown",
   "metadata": {},
   "source": [
    "## Zadanie implementacyjne\n",
    "Zaimplementuj wszystkie funkcje w pliku main.py zgodnie z opisem a następnie przetestuj je w notatniku."
   ]
  },
  {
   "cell_type": "code",
   "execution_count": 1,
   "metadata": {},
   "outputs": [],
   "source": [
    "import main"
   ]
  },
  {
   "cell_type": "markdown",
   "metadata": {},
   "source": [
    "# Przykładowe wyniki zaimplementowanych funkcji"
   ]
  },
  {
   "cell_type": "code",
   "execution_count": 2,
   "metadata": {},
   "outputs": [
    {
     "name": "stdout",
     "output_type": "stream",
     "text": [
      "                   title               languge   category\n",
      "0          Alter Victory  English               Animation\n",
      "1   Anaconda Confessions  English               Animation\n",
      "2         Argonauts Town  English               Animation\n",
      "3       Bikini Borrowers  English               Animation\n",
      "4       Blackout Private  English               Animation\n",
      "..                   ...                   ...        ...\n",
      "61           Tracy Cider  English               Animation\n",
      "62             Turn Star  English               Animation\n",
      "63            Wait Cider  English               Animation\n",
      "64           Watch Tracy  English               Animation\n",
      "65             Wonka Sea  English               Animation\n",
      "\n",
      "[66 rows x 3 columns]\n"
     ]
    }
   ],
   "source": [
    "print(main.film_in_category(2))"
   ]
  },
  {
   "cell_type": "code",
   "execution_count": 3,
   "metadata": {},
   "outputs": [
    {
     "name": "stdout",
     "output_type": "stream",
     "text": [
      "    category  count\n",
      "0  Animation     66\n"
     ]
    }
   ],
   "source": [
    "print(main.number_films_in_category(2))"
   ]
  },
  {
   "cell_type": "code",
   "execution_count": 4,
   "metadata": {},
   "outputs": [
    {
     "name": "stdout",
     "output_type": "stream",
     "text": [
      "    length  count\n",
      "0      100     12\n",
      "1      101      7\n",
      "2      102     11\n",
      "3      103      9\n",
      "4      104      6\n",
      "5      105      6\n",
      "6      106      6\n",
      "7      107     10\n",
      "8      108      5\n",
      "9      109      7\n",
      "10     110      9\n",
      "11     111      7\n",
      "12     112     13\n",
      "13     113      8\n",
      "14     114     10\n",
      "15     115      7\n",
      "16     116      4\n",
      "17     117      5\n",
      "18     118      8\n",
      "19     119      6\n",
      "20     120      9\n"
     ]
    }
   ],
   "source": [
    "print(main.number_film_by_length(100, 120))"
   ]
  },
  {
   "cell_type": "code",
   "execution_count": 5,
   "metadata": {},
   "outputs": [
    {
     "name": "stdout",
     "output_type": "stream",
     "text": [
      "     city first_name last_name\n",
      "0  London     Mattie   Hoffman\n",
      "1  London      Cecil     Vines\n"
     ]
    }
   ],
   "source": [
    "print(main.client_from_city(\"London\"))"
   ]
  },
  {
   "cell_type": "markdown",
   "metadata": {},
   "source": [
    "# 1.Znajdź listę wszystkich filmów o tej samej długości.\n"
   ]
  },
  {
   "cell_type": "code",
   "execution_count": 4,
   "metadata": {},
   "outputs": [
    {
     "data": {
      "text/html": [
       "<div>\n",
       "<style scoped>\n",
       "    .dataframe tbody tr th:only-of-type {\n",
       "        vertical-align: middle;\n",
       "    }\n",
       "\n",
       "    .dataframe tbody tr th {\n",
       "        vertical-align: top;\n",
       "    }\n",
       "\n",
       "    .dataframe thead th {\n",
       "        text-align: right;\n",
       "    }\n",
       "</style>\n",
       "<table border=\"1\" class=\"dataframe\">\n",
       "  <thead>\n",
       "    <tr style=\"text-align: right;\">\n",
       "      <th></th>\n",
       "      <th></th>\n",
       "    </tr>\n",
       "    <tr>\n",
       "      <th>length</th>\n",
       "      <th>title</th>\n",
       "    </tr>\n",
       "  </thead>\n",
       "  <tbody>\n",
       "    <tr>\n",
       "      <th rowspan=\"5\" valign=\"top\">46</th>\n",
       "      <th>Alien Center</th>\n",
       "    </tr>\n",
       "    <tr>\n",
       "      <th>Iron Moon</th>\n",
       "    </tr>\n",
       "    <tr>\n",
       "      <th>Kwai Homeward</th>\n",
       "    </tr>\n",
       "    <tr>\n",
       "      <th>Labyrinth League</th>\n",
       "    </tr>\n",
       "    <tr>\n",
       "      <th>Ridgemont Submarine</th>\n",
       "    </tr>\n",
       "    <tr>\n",
       "      <th>...</th>\n",
       "      <th>...</th>\n",
       "    </tr>\n",
       "    <tr>\n",
       "      <th rowspan=\"5\" valign=\"top\">185</th>\n",
       "      <th>Muscle Bright</th>\n",
       "    </tr>\n",
       "    <tr>\n",
       "      <th>Pond Seattle</th>\n",
       "    </tr>\n",
       "    <tr>\n",
       "      <th>Soldiers Evolution</th>\n",
       "    </tr>\n",
       "    <tr>\n",
       "      <th>Sweet Brotherhood</th>\n",
       "    </tr>\n",
       "    <tr>\n",
       "      <th>Worst Banger</th>\n",
       "    </tr>\n",
       "  </tbody>\n",
       "</table>\n",
       "<p>1000 rows × 0 columns</p>\n",
       "</div>"
      ],
      "text/plain": [
       "Empty DataFrame\n",
       "Columns: []\n",
       "Index: [(46, Alien Center), (46, Iron Moon), (46, Kwai Homeward), (46, Labyrinth League), (46, Ridgemont Submarine), (47, Divorce Shining), (47, Downhill Enough), (47, Halloween Nuts), (47, Hanover Galaxy), (47, Hawk Chill), (47, Shanghai Tycoon), (47, Suspects Quills), (48, Ace Goldfinger), (48, Heaven Freedom), (48, Midsummer Groundhog), (48, Notting Speakeasy), (48, Odds Boogie), (48, Paradise Sabrina), (48, Pelican Comforts), (48, Rush Goodfellas), (48, Stepmom Dream), (48, Sunset Racer), (48, Valentine Vanishing), (49, Doors President), (49, Grosse Wonderful), (49, Heavenly Gun), (49, Hook Chariots), (49, Hurricane Affair), (50, Adaptation Holes), (50, Blues Instinct), (50, Crossing Divorce), (50, Lion Uncut), (50, Muppet Mile), (50, Natural Stock), (50, Pilot Hoosiers), (50, Smoking Barbarella), (50, Zorro Ark), (51, Champion Flatliners), (51, Deep Crusade), (51, English Bulworth), (51, Excitement Eve), (51, Frisco Forrest), (51, Hall Cassidy), (51, Simon North), (52, Caddyshack Jedi), (52, Harper Dying), (52, Lust Lock), (52, Side Ark), (52, Spartacus Cheaper), (52, Trojan Tomorrow), (52, Westward Seabiscuit), (53, Beneath Rush), (53, Cabin Flash), (53, Gump Date), (53, Magnificent Chitty), (53, Movie Shakespeare), (53, Primary Glass), (53, Summer Scarface), (53, Tequila Past), (53, Thin Sagebrush), (54, Airport Pollock), (54, Go Purple), (54, Juggler Hardly), (54, Kill Brotherhood), (54, October Submarine), (54, Sense Greek), (55, Coast Rainbow), (55, Wolves Desire), (56, Bride Intrigue), (56, Cupboard Sinners), (56, Destiny Saturday), (56, Goodfellas Salute), (56, Matrix Snowman), (57, Alter Victory), (57, Cranes Reservoir), (57, Dawn Pond), (57, Doctor Grail), (57, Mosquito Armageddon), (57, Noon Papi), (57, Storm Happiness), (58, Closer Bang), (58, Dances None), (58, Fantasy Troopers), (58, Jekyll Frogmen), (58, Oklahoma Jumanji), (58, Rings Heartbreakers), (58, Super Wyoming), (59, Commandments Express), (59, Daughter Madigan), (59, Heartbreakers Bright), (59, Interview Liaisons), (59, Jet Neighbors), (59, Legend Jedi), (59, Minority Kiss), (59, Vision Torque), (59, Whisperer Giant), (60, Bubble Grosse), (60, Jersey Sassy), (60, Mockingbird Hollywood), (60, Phantom Glory), ...]\n",
       "\n",
       "[1000 rows x 0 columns]"
      ]
     },
     "execution_count": 4,
     "metadata": {},
     "output_type": "execute_result"
    }
   ],
   "source": [
    "df = main.pd.read_sql(\"\"\"\n",
    "    select film.title, film.length from film \n",
    "    order by film.length\n",
    "\n",
    "\"\"\", con=main.connection).pivot(index=['length', 'title'], columns=[]).sort_index()\n",
    "df\n",
    "\n"
   ]
  },
  {
   "cell_type": "markdown",
   "metadata": {},
   "source": [
    "# 2.Znajdź wszystkich klientów mieszkających w tym samym mieście.\n"
   ]
  },
  {
   "cell_type": "code",
   "execution_count": 7,
   "metadata": {},
   "outputs": [
    {
     "data": {
      "text/html": [
       "<div>\n",
       "<style scoped>\n",
       "    .dataframe tbody tr th:only-of-type {\n",
       "        vertical-align: middle;\n",
       "    }\n",
       "\n",
       "    .dataframe tbody tr th {\n",
       "        vertical-align: top;\n",
       "    }\n",
       "\n",
       "    .dataframe thead th {\n",
       "        text-align: right;\n",
       "    }\n",
       "</style>\n",
       "<table border=\"1\" class=\"dataframe\">\n",
       "  <thead>\n",
       "    <tr style=\"text-align: right;\">\n",
       "      <th></th>\n",
       "      <th></th>\n",
       "      <th></th>\n",
       "    </tr>\n",
       "    <tr>\n",
       "      <th>city</th>\n",
       "      <th>first_name</th>\n",
       "      <th>last_name</th>\n",
       "    </tr>\n",
       "  </thead>\n",
       "  <tbody>\n",
       "    <tr>\n",
       "      <th rowspan=\"2\" valign=\"top\">Aurora</th>\n",
       "      <th>Clinton</th>\n",
       "      <th>Buford</th>\n",
       "    </tr>\n",
       "    <tr>\n",
       "      <th>Scott</th>\n",
       "      <th>Shelley</th>\n",
       "    </tr>\n",
       "    <tr>\n",
       "      <th rowspan=\"2\" valign=\"top\">London</th>\n",
       "      <th>Cecil</th>\n",
       "      <th>Vines</th>\n",
       "    </tr>\n",
       "    <tr>\n",
       "      <th>Mattie</th>\n",
       "      <th>Hoffman</th>\n",
       "    </tr>\n",
       "  </tbody>\n",
       "</table>\n",
       "</div>"
      ],
      "text/plain": [
       "Empty DataFrame\n",
       "Columns: []\n",
       "Index: [(Aurora, Clinton, Buford), (Aurora, Scott, Shelley), (London, Cecil, Vines), (London, Mattie, Hoffman)]"
      ]
     },
     "execution_count": 7,
     "metadata": {},
     "output_type": "execute_result"
    }
   ],
   "source": [
    "df = main.pd.read_sql(\"\"\"\n",
    "    select first_name, last_name, city.city from customer\n",
    "    inner join address on address.address_id = customer.address_id\n",
    "    inner join city on city.city_id = address.city_id\n",
    "    order by city.city\n",
    "\"\"\" ,con=main.connection).groupby('city').filter(lambda x: len(x)>1).pivot(index=['city', 'first_name', 'last_name'], columns=[]).sort_index()\n",
    "df"
   ]
  },
  {
   "cell_type": "markdown",
   "metadata": {},
   "source": [
    "# 3.Oblicz średni koszt wypożyczenia wszystkich filmów.\n"
   ]
  },
  {
   "cell_type": "code",
   "execution_count": 8,
   "metadata": {},
   "outputs": [
    {
     "name": "stdout",
     "output_type": "stream",
     "text": [
      "                           title       avg\n",
      "0                 Frontier Cabin  5.990000\n",
      "1    Arachnophobia Rollercoaster  4.772609\n",
      "2             Cruelty Unforgiven  1.156667\n",
      "3         Intolerable Intentions  5.704286\n",
      "4                  Monsoon Cause  6.101111\n",
      "..                           ...       ...\n",
      "953                  Reef Salute  2.171818\n",
      "954                   Bugsy Song  5.101111\n",
      "955                Orient Closer  4.754706\n",
      "956          Brotherhood Blanket  4.294348\n",
      "957                Boulevard Mob  3.552500\n",
      "\n",
      "[958 rows x 2 columns]\n"
     ]
    }
   ],
   "source": [
    "df = main.pd.read_sql(\"\"\"\n",
    "    select film.title, avg(payment.amount) from film\n",
    "    inner join inventory on film.film_id = inventory.film_id\n",
    "    inner join rental on rental.inventory_id = inventory.inventory_id\n",
    "    inner join payment on payment.rental_id = rental.rental_id\n",
    "    group by title\n",
    "\"\"\" ,con=main.connection)\n",
    "print(df)"
   ]
  },
  {
   "cell_type": "markdown",
   "metadata": {},
   "source": [
    "# 4.Oblicz i wyświetl liczbę filmów we wszystkich kategoriach.\n"
   ]
  },
  {
   "cell_type": "code",
   "execution_count": 9,
   "metadata": {},
   "outputs": [
    {
     "name": "stdout",
     "output_type": "stream",
     "text": [
      "           name  count\n",
      "0        Horror     56\n",
      "1        Comedy     58\n",
      "2        Sci-Fi     61\n",
      "3         Drama     62\n",
      "4       Foreign     73\n",
      "5      Classics     57\n",
      "6         Games     61\n",
      "7           New     63\n",
      "8        Travel     57\n",
      "9         Music     51\n",
      "10       Action     64\n",
      "11  Documentary     68\n",
      "12       Sports     74\n",
      "13    Animation     66\n",
      "14       Family     69\n",
      "15     Children     60\n"
     ]
    }
   ],
   "source": [
    "df = main.pd.read_sql(\"\"\"\n",
    "    select category.name, count(film.film_id) from film \n",
    "    inner join film_category on film_category.film_id = film.film_id\n",
    "    inner join category on category.category_id = film_category.category_id\n",
    "    group by category.name\n",
    "\n",
    "\"\"\", con=main.connection)\n",
    "print(df)"
   ]
  },
  {
   "cell_type": "markdown",
   "metadata": {},
   "source": [
    "# 5.Wyświetl liczbę wszystkich klientów pogrupowanych według kraju.\n"
   ]
  },
  {
   "cell_type": "code",
   "execution_count": 10,
   "metadata": {},
   "outputs": [
    {
     "name": "stdout",
     "output_type": "stream",
     "text": [
      "                  country  count\n",
      "0                Cambodia      2\n",
      "1                  Turkey     15\n",
      "2                 Germany      7\n",
      "3              Madagascar      1\n",
      "4                    Chad      1\n",
      "..                    ...    ...\n",
      "103                 Sudan      2\n",
      "104  United Arab Emirates      3\n",
      "105              Tanzania      3\n",
      "106      French Polynesia      2\n",
      "107              Bulgaria      2\n",
      "\n",
      "[108 rows x 2 columns]\n"
     ]
    }
   ],
   "source": [
    "df = main.pd.read_sql(\"\"\"\n",
    "    select country.country, count(customer.customer_id) from customer\n",
    "    inner join address on customer.address_id = address.address_id\n",
    "    inner join city on city.city_id = address.city_id\n",
    "    inner join country on country.country_id = city.country_id\n",
    "    group by country.country\n",
    "\n",
    "\"\"\", con=main.connection)\n",
    "print(df)"
   ]
  },
  {
   "cell_type": "markdown",
   "metadata": {},
   "source": [
    "# 6.Wyświetl informacje o sklepie, który ma więcej niż 100 klientów i mniej niż 300 klientów.\n"
   ]
  },
  {
   "cell_type": "code",
   "execution_count": 11,
   "metadata": {},
   "outputs": [
    {
     "name": "stdout",
     "output_type": "stream",
     "text": [
      "   store_id  address_id  customers\n",
      "0         2           2        273\n"
     ]
    }
   ],
   "source": [
    "df = main.pd.read_sql(\"\"\"\n",
    "    select store.store_id, store.address_id, count(customer_id) as customers from store \n",
    "    inner join customer on customer.store_id = store.store_id\n",
    "    group by store.store_id\n",
    "    having count(customer.customer_id) between 100 and 300\n",
    "\"\"\", con=main.connection)\n",
    "print(df)"
   ]
  },
  {
   "cell_type": "markdown",
   "metadata": {},
   "source": [
    "# 7.Wybierz wszystkich klientów, którzy oglądali filmy ponad 200 godzin.\n"
   ]
  },
  {
   "cell_type": "code",
   "execution_count": 12,
   "metadata": {},
   "outputs": [
    {
     "name": "stdout",
     "output_type": "stream",
     "text": [
      "Empty DataFrame\n",
      "Columns: [customer_id]\n",
      "Index: []\n"
     ]
    }
   ],
   "source": [
    "df = main.pd.read_sql(\"\"\"\n",
    "    select customer.customer_id from customer \n",
    "    inner join rental on customer.customer_id = rental.customer_id\n",
    "    inner join inventory on inventory.inventory_id = rental.inventory_id\n",
    "    inner join film on film.film_id = inventory.film_id\n",
    "    where film.length > 1200\n",
    "    \n",
    "\n",
    "\"\"\", con=main.connection)\n",
    "print(df)\n",
    "# żaden klient nie oglądał filmów ponad 200 godzin"
   ]
  },
  {
   "cell_type": "markdown",
   "metadata": {},
   "source": [
    "# 8.Oblicz średnią wartość wypożyczenia filmu.\n"
   ]
  },
  {
   "cell_type": "code",
   "execution_count": 13,
   "metadata": {},
   "outputs": [
    {
     "name": "stdout",
     "output_type": "stream",
     "text": [
      "    srednia\n",
      "0  4.200606\n"
     ]
    }
   ],
   "source": [
    "df = main.pd.read_sql(\"\"\"\n",
    "    select sum(payment.amount)/count(payment.amount) as srednia from payment \n",
    "    inner join rental on rental.rental_id = payment.rental_id\n",
    "    inner join inventory on inventory.inventory_id = rental.inventory_id\n",
    "    inner join film on film.film_id = inventory.film_id\n",
    "\"\"\", con=main.connection)\n",
    "print(df)"
   ]
  },
  {
   "cell_type": "markdown",
   "metadata": {},
   "source": [
    "# 9.Oblicz średnią wartość długości filmu we wszystkich kategoriach.\n"
   ]
  },
  {
   "cell_type": "code",
   "execution_count": 14,
   "metadata": {},
   "outputs": [
    {
     "name": "stdout",
     "output_type": "stream",
     "text": [
      "           name         avg\n",
      "0        Horror  112.482143\n",
      "1        Comedy  115.827586\n",
      "2        Sci-Fi  108.196721\n",
      "3         Drama  120.838710\n",
      "4       Foreign  121.698630\n",
      "5      Classics  111.666667\n",
      "6         Games  127.836066\n",
      "7           New  111.126984\n",
      "8        Travel  113.315789\n",
      "9         Music  113.647059\n",
      "10       Action  111.609375\n",
      "11  Documentary  108.750000\n",
      "12       Sports  128.202703\n",
      "13    Animation  111.015152\n",
      "14       Family  114.782609\n",
      "15     Children  109.800000\n"
     ]
    }
   ],
   "source": [
    "df = main.pd.read_sql(\"\"\"\n",
    "    select category.name, avg(film.length) from category\n",
    "    inner join film_category on category.category_id = film_category.category_id\n",
    "    inner join film on film.film_id = film_category.film_id\n",
    "    group by category.name\n",
    "\n",
    "\"\"\", con=main.connection)\n",
    "print(df)"
   ]
  },
  {
   "cell_type": "markdown",
   "metadata": {},
   "source": [
    "# 10.Znajdź najdłuższe tytuły filmowe we wszystkich kategoriach.\n"
   ]
  },
  {
   "cell_type": "code",
   "execution_count": 15,
   "metadata": {},
   "outputs": [
    {
     "data": {
      "text/html": [
       "<div>\n",
       "<style scoped>\n",
       "    .dataframe tbody tr th:only-of-type {\n",
       "        vertical-align: middle;\n",
       "    }\n",
       "\n",
       "    .dataframe tbody tr th {\n",
       "        vertical-align: top;\n",
       "    }\n",
       "\n",
       "    .dataframe thead th {\n",
       "        text-align: right;\n",
       "    }\n",
       "</style>\n",
       "<table border=\"1\" class=\"dataframe\">\n",
       "  <thead>\n",
       "    <tr style=\"text-align: right;\">\n",
       "      <th></th>\n",
       "      <th></th>\n",
       "      <th></th>\n",
       "    </tr>\n",
       "    <tr>\n",
       "      <th>name</th>\n",
       "      <th>len_title</th>\n",
       "      <th>title</th>\n",
       "    </tr>\n",
       "  </thead>\n",
       "  <tbody>\n",
       "    <tr>\n",
       "      <th>Action</th>\n",
       "      <th>23</th>\n",
       "      <th>Entrapment Satisfaction</th>\n",
       "    </tr>\n",
       "    <tr>\n",
       "      <th>Animation</th>\n",
       "      <th>22</th>\n",
       "      <th>Telemark Heartbreakers</th>\n",
       "    </tr>\n",
       "    <tr>\n",
       "      <th rowspan=\"3\" valign=\"top\">Children</th>\n",
       "      <th rowspan=\"3\" valign=\"top\">20</th>\n",
       "      <th>Heartbreakers Bright</th>\n",
       "    </tr>\n",
       "    <tr>\n",
       "      <th>Microcosmos Paradise</th>\n",
       "    </tr>\n",
       "    <tr>\n",
       "      <th>Sweethearts Suspects</th>\n",
       "    </tr>\n",
       "    <tr>\n",
       "      <th>Classics</th>\n",
       "      <th>23</th>\n",
       "      <th>Extraordinary Conquerer</th>\n",
       "    </tr>\n",
       "    <tr>\n",
       "      <th>Comedy</th>\n",
       "      <th>23</th>\n",
       "      <th>Trainspotting Strangers</th>\n",
       "    </tr>\n",
       "    <tr>\n",
       "      <th rowspan=\"2\" valign=\"top\">Documentary</th>\n",
       "      <th rowspan=\"2\" valign=\"top\">22</th>\n",
       "      <th>Deliverance Mulholland</th>\n",
       "    </tr>\n",
       "    <tr>\n",
       "      <th>Intolerable Intentions</th>\n",
       "    </tr>\n",
       "    <tr>\n",
       "      <th>Drama</th>\n",
       "      <th>22</th>\n",
       "      <th>Goldfinger Sensibility</th>\n",
       "    </tr>\n",
       "    <tr>\n",
       "      <th>Family</th>\n",
       "      <th>22</th>\n",
       "      <th>Resurrection Silverado</th>\n",
       "    </tr>\n",
       "    <tr>\n",
       "      <th rowspan=\"3\" valign=\"top\">Foreign</th>\n",
       "      <th rowspan=\"3\" valign=\"top\">20</th>\n",
       "      <th>Ballroom Mockingbird</th>\n",
       "    </tr>\n",
       "    <tr>\n",
       "      <th>Impossible Prejudice</th>\n",
       "    </tr>\n",
       "    <tr>\n",
       "      <th>Reservoir Adaptation</th>\n",
       "    </tr>\n",
       "    <tr>\n",
       "      <th rowspan=\"2\" valign=\"top\">Games</th>\n",
       "      <th rowspan=\"2\" valign=\"top\">21</th>\n",
       "      <th>Bulworth Commandments</th>\n",
       "    </tr>\n",
       "    <tr>\n",
       "      <th>Creatures Shakespeare</th>\n",
       "    </tr>\n",
       "    <tr>\n",
       "      <th>Horror</th>\n",
       "      <th>27</th>\n",
       "      <th>Arachnophobia Rollercoaster</th>\n",
       "    </tr>\n",
       "    <tr>\n",
       "      <th>Music</th>\n",
       "      <th>22</th>\n",
       "      <th>Confidential Interview</th>\n",
       "    </tr>\n",
       "    <tr>\n",
       "      <th>New</th>\n",
       "      <th>21</th>\n",
       "      <th>Flamingos Connecticut</th>\n",
       "    </tr>\n",
       "    <tr>\n",
       "      <th rowspan=\"5\" valign=\"top\">Sci-Fi</th>\n",
       "      <th rowspan=\"5\" valign=\"top\">20</th>\n",
       "      <th>Barbarella Streetcar</th>\n",
       "    </tr>\n",
       "    <tr>\n",
       "      <th>Cincinatti Whisperer</th>\n",
       "    </tr>\n",
       "    <tr>\n",
       "      <th>Silverado Goldfinger</th>\n",
       "    </tr>\n",
       "    <tr>\n",
       "      <th>Unforgiven Zoolander</th>\n",
       "    </tr>\n",
       "    <tr>\n",
       "      <th>Wonderland Christmas</th>\n",
       "    </tr>\n",
       "    <tr>\n",
       "      <th>Sports</th>\n",
       "      <th>25</th>\n",
       "      <th>Satisfaction Confidential</th>\n",
       "    </tr>\n",
       "    <tr>\n",
       "      <th>Travel</th>\n",
       "      <th>23</th>\n",
       "      <th>Desperate Trainspotting</th>\n",
       "    </tr>\n",
       "  </tbody>\n",
       "</table>\n",
       "</div>"
      ],
      "text/plain": [
       "Empty DataFrame\n",
       "Columns: []\n",
       "Index: [(Action, 23, Entrapment Satisfaction), (Animation, 22, Telemark Heartbreakers), (Children, 20, Heartbreakers Bright), (Children, 20, Microcosmos Paradise), (Children, 20, Sweethearts Suspects), (Classics, 23, Extraordinary Conquerer), (Comedy, 23, Trainspotting Strangers), (Documentary, 22, Deliverance Mulholland), (Documentary, 22, Intolerable Intentions), (Drama, 22, Goldfinger Sensibility), (Family, 22, Resurrection Silverado), (Foreign, 20, Ballroom Mockingbird), (Foreign, 20, Impossible Prejudice), (Foreign, 20, Reservoir Adaptation), (Games, 21, Bulworth Commandments), (Games, 21, Creatures Shakespeare), (Horror, 27, Arachnophobia Rollercoaster), (Music, 22, Confidential Interview), (New, 21, Flamingos Connecticut), (Sci-Fi, 20, Barbarella Streetcar), (Sci-Fi, 20, Cincinatti Whisperer), (Sci-Fi, 20, Silverado Goldfinger), (Sci-Fi, 20, Unforgiven Zoolander), (Sci-Fi, 20, Wonderland Christmas), (Sports, 25, Satisfaction Confidential), (Travel, 23, Desperate Trainspotting)]"
      ]
     },
     "execution_count": 15,
     "metadata": {},
     "output_type": "execute_result"
    }
   ],
   "source": [
    "df1 = main.pd.read_sql(\"\"\"\n",
    "    select category.name, max(length(film.title)) as len_title from category\n",
    "    left join film_category on category.category_id = film_category.category_id\n",
    "    left join film on film.film_id = film_category.film_id\n",
    "    group by category.name\n",
    "\n",
    "\"\"\", con=main.connection)\n",
    "df2 = main.pd.read_sql(\"\"\"\n",
    "    select category.name, film.title , length(film.title) as len_title\n",
    "    from film inner join film_category on film_category.film_id = film.film_id\n",
    "    inner join category on category.category_id = film_category.category_id\n",
    "    group by film.title, category.name\n",
    "\n",
    "\n",
    "\"\"\", con=main.connection)\n",
    "df1.merge(df2, left_on=['len_title', 'name'], right_on=['len_title', 'name']).pivot(index=['name', 'len_title', 'title'], columns=[]).sort_index()"
   ]
  },
  {
   "cell_type": "markdown",
   "metadata": {},
   "source": [
    "# 11.Znajdź najdłuższy film we wszystkich kategoriach. Porównaj wynik z pkt 10."
   ]
  },
  {
   "cell_type": "code",
   "execution_count": 17,
   "metadata": {},
   "outputs": [
    {
     "data": {
      "text/html": [
       "<div>\n",
       "<style scoped>\n",
       "    .dataframe tbody tr th:only-of-type {\n",
       "        vertical-align: middle;\n",
       "    }\n",
       "\n",
       "    .dataframe tbody tr th {\n",
       "        vertical-align: top;\n",
       "    }\n",
       "\n",
       "    .dataframe thead th {\n",
       "        text-align: right;\n",
       "    }\n",
       "</style>\n",
       "<table border=\"1\" class=\"dataframe\">\n",
       "  <thead>\n",
       "    <tr style=\"text-align: right;\">\n",
       "      <th></th>\n",
       "      <th></th>\n",
       "      <th></th>\n",
       "    </tr>\n",
       "    <tr>\n",
       "      <th>name</th>\n",
       "      <th>length_min</th>\n",
       "      <th>title</th>\n",
       "    </tr>\n",
       "  </thead>\n",
       "  <tbody>\n",
       "    <tr>\n",
       "      <th rowspan=\"2\" valign=\"top\">Action</th>\n",
       "      <th rowspan=\"2\" valign=\"top\">185</th>\n",
       "      <th>Darn Forrester</th>\n",
       "    </tr>\n",
       "    <tr>\n",
       "      <th>Worst Banger</th>\n",
       "    </tr>\n",
       "    <tr>\n",
       "      <th rowspan=\"2\" valign=\"top\">Animation</th>\n",
       "      <th rowspan=\"2\" valign=\"top\">185</th>\n",
       "      <th>Gangs Pride</th>\n",
       "    </tr>\n",
       "    <tr>\n",
       "      <th>Pond Seattle</th>\n",
       "    </tr>\n",
       "    <tr>\n",
       "      <th rowspan=\"2\" valign=\"top\">Children</th>\n",
       "      <th rowspan=\"2\" valign=\"top\">178</th>\n",
       "      <th>Fury Murder</th>\n",
       "    </tr>\n",
       "    <tr>\n",
       "      <th>Wrong Behavior</th>\n",
       "    </tr>\n",
       "    <tr>\n",
       "      <th>Classics</th>\n",
       "      <th>184</th>\n",
       "      <th>Conspiracy Spirit</th>\n",
       "    </tr>\n",
       "    <tr>\n",
       "      <th>Comedy</th>\n",
       "      <th>185</th>\n",
       "      <th>Control Anthem</th>\n",
       "    </tr>\n",
       "    <tr>\n",
       "      <th rowspan=\"2\" valign=\"top\">Documentary</th>\n",
       "      <th rowspan=\"2\" valign=\"top\">183</th>\n",
       "      <th>Wife Turn</th>\n",
       "    </tr>\n",
       "    <tr>\n",
       "      <th>Young Language</th>\n",
       "    </tr>\n",
       "    <tr>\n",
       "      <th>Drama</th>\n",
       "      <th>181</th>\n",
       "      <th>Jacket Frisco</th>\n",
       "    </tr>\n",
       "    <tr>\n",
       "      <th>Family</th>\n",
       "      <th>184</th>\n",
       "      <th>King Evolution</th>\n",
       "    </tr>\n",
       "    <tr>\n",
       "      <th rowspan=\"2\" valign=\"top\">Foreign</th>\n",
       "      <th rowspan=\"2\" valign=\"top\">184</th>\n",
       "      <th>Crystal Breaking</th>\n",
       "    </tr>\n",
       "    <tr>\n",
       "      <th>Sorority Queen</th>\n",
       "    </tr>\n",
       "    <tr>\n",
       "      <th>Games</th>\n",
       "      <th>185</th>\n",
       "      <th>Chicago North</th>\n",
       "    </tr>\n",
       "    <tr>\n",
       "      <th rowspan=\"2\" valign=\"top\">Horror</th>\n",
       "      <th rowspan=\"2\" valign=\"top\">181</th>\n",
       "      <th>Analyze Hoosiers</th>\n",
       "    </tr>\n",
       "    <tr>\n",
       "      <th>Love Suicides</th>\n",
       "    </tr>\n",
       "    <tr>\n",
       "      <th>Music</th>\n",
       "      <th>185</th>\n",
       "      <th>Home Pity</th>\n",
       "    </tr>\n",
       "    <tr>\n",
       "      <th>New</th>\n",
       "      <th>183</th>\n",
       "      <th>Frontier Cabin</th>\n",
       "    </tr>\n",
       "    <tr>\n",
       "      <th>Sci-Fi</th>\n",
       "      <th>185</th>\n",
       "      <th>Soldiers Evolution</th>\n",
       "    </tr>\n",
       "    <tr>\n",
       "      <th>Sports</th>\n",
       "      <th>184</th>\n",
       "      <th>Smoochy Control</th>\n",
       "    </tr>\n",
       "    <tr>\n",
       "      <th rowspan=\"2\" valign=\"top\">Travel</th>\n",
       "      <th rowspan=\"2\" valign=\"top\">185</th>\n",
       "      <th>Muscle Bright</th>\n",
       "    </tr>\n",
       "    <tr>\n",
       "      <th>Sweet Brotherhood</th>\n",
       "    </tr>\n",
       "  </tbody>\n",
       "</table>\n",
       "</div>"
      ],
      "text/plain": [
       "Empty DataFrame\n",
       "Columns: []\n",
       "Index: [(Action, 185, Darn Forrester), (Action, 185, Worst Banger), (Animation, 185, Gangs Pride), (Animation, 185, Pond Seattle), (Children, 178, Fury Murder), (Children, 178, Wrong Behavior), (Classics, 184, Conspiracy Spirit), (Comedy, 185, Control Anthem), (Documentary, 183, Wife Turn), (Documentary, 183, Young Language), (Drama, 181, Jacket Frisco), (Family, 184, King Evolution), (Foreign, 184, Crystal Breaking), (Foreign, 184, Sorority Queen), (Games, 185, Chicago North), (Horror, 181, Analyze Hoosiers), (Horror, 181, Love Suicides), (Music, 185, Home Pity), (New, 183, Frontier Cabin), (Sci-Fi, 185, Soldiers Evolution), (Sports, 184, Smoochy Control), (Travel, 185, Muscle Bright), (Travel, 185, Sweet Brotherhood)]"
      ]
     },
     "execution_count": 17,
     "metadata": {},
     "output_type": "execute_result"
    }
   ],
   "source": [
    "df1 = main.pd.read_sql(\"\"\"\n",
    "    select category.name, max(film.length) as length_min from category \n",
    "    inner join film_category on category.category_id = film_category.category_id\n",
    "    inner join film on film.film_id = film_category.film_id\n",
    "    group by category.name\n",
    "\"\"\", con=main.connection)\n",
    "df2 = main.pd.read_sql(\"\"\"\n",
    "    select category.name, film.title, film.length as length_min from film\n",
    "    inner join film_category on film_category.film_id = film.film_id\n",
    "    inner join category on category.category_id = film_category.category_id\n",
    "    group by category.name, film.title, film.length\n",
    "\"\"\", con=main.connection)\n",
    "df1.merge(df2, left_on=['length_min', 'name'], right_on=['length_min', 'name']).pivot(index=['name', 'length_min', 'title'], columns=[]).sort_index()\n"
   ]
  },
  {
   "cell_type": "code",
   "execution_count": null,
   "metadata": {},
   "outputs": [],
   "source": []
  }
 ],
 "metadata": {
  "interpreter": {
   "hash": "106ed82a1ff1ed1ef92425bfd23166d93d11c27ea5129f8fea23354aea2725fd"
  },
  "kernelspec": {
   "display_name": "Python 3.8.10 64-bit (windows store)",
   "name": "python3"
  },
  "language_info": {
   "codemirror_mode": {
    "name": "ipython",
    "version": 3
   },
   "file_extension": ".py",
   "mimetype": "text/x-python",
   "name": "python",
   "nbconvert_exporter": "python",
   "pygments_lexer": "ipython3",
   "version": "3.8.10"
  }
 },
 "nbformat": 4,
 "nbformat_minor": 2
}
