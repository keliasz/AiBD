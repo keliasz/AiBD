{
 "cells": [
  {
   "cell_type": "markdown",
   "id": "de693737",
   "metadata": {},
   "source": [
    "# Lab. 14 - Raporty i wizualizacja danych"
   ]
  },
  {
   "cell_type": "markdown",
   "id": "974ca47a",
   "metadata": {},
   "source": [
    "## Kontrolki interaktywne w Jupyter Notebook\n",
    "czyli jak korzystać z interaktywnych widgetów IPython, aby usprawnić eksplorację i analizę danych."
   ]
  },
  {
   "cell_type": "markdown",
   "id": "29386397",
   "metadata": {},
   "source": [
    "W eksploracji danych mało efektywne i zakłócające płynność analizy danych jest wielokrotne uruchamianie tej samej komórki, za każdym razem nieznacznie zmieniając parametry wejściowe, np. wybierając inną wartość funkcji, inne zakresy dat do analizy, czy motyw wizualizacji plotly.\n",
    "\n",
    "Jednym z rozwiązań tego problemu są interaktywne kontrolki umożliwiające zmianę danych wejściowych bez konieczności przepisywania lub ponownego uruchamiania kodu. Mowa o **IPython widgets** (z biblioteki ipywidgets), które można zbudować za pomocą jednej linii kodu. Biblioteka pozwala nam przekształcić statyczne dokumenty Jupyter Notebook w interaktywne pulpity, idealne do eksploracji i wizualizacji danych."
   ]
  },
  {
   "cell_type": "markdown",
   "id": "96c9b9b6",
   "metadata": {},
   "source": [
    "1. Instalacja: \n",
    "```cmd\n",
    "pip install ipywidgets \n",
    "pip install pyarrow\n",
    "pip install fastparquet\n",
    "pip install chart_studio\n",
    "```\n",
    "\n",
    "1. Aktywacja widgetów dla Jupyter Notebook: \n",
    "```cmd\n",
    "jupyter nbextension enable --py widgetsnbextension\n",
    "```\n",
    "2. Import: \n",
    "```python\n",
    "import ipywidgets as widgets\n",
    "from ipywidgets import interact, interact_manual\n",
    "```"
   ]
  },
  {
   "cell_type": "code",
   "execution_count": null,
   "id": "edcceba5",
   "metadata": {},
   "outputs": [],
   "source": [
    "import ipywidgets as widgets\n",
    "from ipywidgets import interact, interact_manual\n",
    "import chart_studio.plotly as py"
   ]
  },
  {
   "cell_type": "code",
   "execution_count": null,
   "id": "c11a2ab0",
   "metadata": {},
   "outputs": [],
   "source": [
    "import pandas as pd\n",
    "import numpy as np"
   ]
  },
  {
   "cell_type": "markdown",
   "id": "581be601",
   "metadata": {},
   "source": [
    "Pokaż wszystkie dane wyjściowe komórek"
   ]
  },
  {
   "cell_type": "code",
   "execution_count": null,
   "id": "3793882c",
   "metadata": {},
   "outputs": [],
   "source": [
    "from IPython.core.interactiveshell import InteractiveShell\n",
    "InteractiveShell.ast_node_interactivity = 'all'"
   ]
  },
  {
   "cell_type": "markdown",
   "id": "61950883",
   "metadata": {},
   "source": [
    "## Podstawowe widgety\n",
    "Przed rozpoczęciem wykonywania głównego zadania, proszę zapoznać się z dokumentacją dostępną [tutaj](https://ipywidgets.readthedocs.io/en/latest/examples/Widget%20Basics.html). Zawiera ona przykłady najprostszych widgetów. Dostępna jest również wersja interaktywna, proszę ją wykonać. \n",
    "\n",
    "[Tutaj](https://ipywidgets.readthedocs.io/en/latest/examples/Widget%20List.html) znajduje się lista widgetów. Niech to będzie punkt odniesienia w trakcie pracy z wykorzystaniem widgetów. \\\n",
    "Cała dokumentacja jest dostępna [tutaj](https://ipywidgets.readthedocs.io/en/stable/user_guide.html)."
   ]
  },
  {
   "cell_type": "markdown",
   "id": "0f3486ec",
   "metadata": {},
   "source": [
    "## Wczytanie danych\n",
    "Dane pochodzą z [repozytorium Willa Koehrsena](https://github.com/WillKoehrsen/Data-Analysis) i zawierają statystyki dotyczące jego artykułów.\n",
    "\n",
    "Więcej informacji znajdziesz [tutaj](https://towardsdatascience.com/interactive-controls-for-jupyter-notebooks-f5c94829aee6)."
   ]
  },
  {
   "cell_type": "code",
   "execution_count": null,
   "id": "f5711b4e",
   "metadata": {},
   "outputs": [],
   "source": [
    "data = pd.read_parquet('https://github.com/WillKoehrsen/Data-Analysis/blob/master/medium/data/medium_data_2019_01_26?raw=true')\n",
    "data.head()"
   ]
  },
  {
   "cell_type": "markdown",
   "id": "9c842ef2",
   "metadata": {},
   "source": [
    "Proszę zapoznać się z danymi (.columns, .describe(), .info())."
   ]
  },
  {
   "cell_type": "code",
   "execution_count": null,
   "id": "96b17a96",
   "metadata": {},
   "outputs": [],
   "source": []
  },
  {
   "cell_type": "code",
   "execution_count": null,
   "id": "49b66f4a",
   "metadata": {},
   "outputs": [],
   "source": []
  },
  {
   "cell_type": "code",
   "execution_count": null,
   "id": "7cfd753c",
   "metadata": {},
   "outputs": [],
   "source": []
  },
  {
   "cell_type": "markdown",
   "id": "143bf833",
   "metadata": {},
   "source": [
    "Stwórz nowy DataFrame, z kolumnami: title, tags, published_date, publication, reads, views, word_count, claps, fans, read_time."
   ]
  },
  {
   "cell_type": "code",
   "execution_count": null,
   "id": "15e3a035",
   "metadata": {},
   "outputs": [],
   "source": []
  },
  {
   "cell_type": "markdown",
   "id": "0945752d",
   "metadata": {},
   "source": [
    "## Wyświetlanie danych"
   ]
  },
  {
   "cell_type": "markdown",
   "id": "69495733",
   "metadata": {},
   "source": [
    "Za pomocą *.loc* wyświetl artykuły, które zostały przeczytane więcej niż 1000 razy."
   ]
  },
  {
   "cell_type": "code",
   "execution_count": null,
   "id": "ee6bb012",
   "metadata": {},
   "outputs": [],
   "source": []
  },
  {
   "cell_type": "markdown",
   "id": "2ee83a73",
   "metadata": {},
   "source": [
    "Teraz za pomocą *.loc* wyświetl artykuły, które zostały przeczytane więcej niż 500 razy."
   ]
  },
  {
   "cell_type": "code",
   "execution_count": null,
   "id": "29656655",
   "metadata": {},
   "outputs": [],
   "source": []
  },
  {
   "cell_type": "markdown",
   "id": "8e3a7fd1",
   "metadata": {},
   "source": [
    "To najprostszy przykład pokazujący, że interaktywna zmiana parametrów jest potrzebna, by usprawnić proces analizy danych. \\\n",
    "Można to zrobić na przykład za pomocą specjalnej metody, z dekoratorem *@interact*:"
   ]
  },
  {
   "cell_type": "code",
   "execution_count": null,
   "id": "fedb5c76",
   "metadata": {},
   "outputs": [],
   "source": [
    "from IPython.display import display, HTML"
   ]
  },
  {
   "cell_type": "code",
   "execution_count": null,
   "id": "33200c61",
   "metadata": {},
   "outputs": [],
   "source": [
    "@interact\n",
    "def show_articles_more_than(column='claps', x=5000):\n",
    "    display(HTML(f'<h3>Showing articles with more than {x} {column}<h3>'))\n",
    "    display(df.loc[df[column] > x])"
   ]
  },
  {
   "cell_type": "markdown",
   "id": "0a740351",
   "metadata": {},
   "source": [
    "Dokumentacja [Interact](https://ipywidgets.readthedocs.io/en/stable/examples/Using%20Interact.html). Tłumaczy m. in., w jaki sposób parametry funkcji są mapowane do widgetów.\n",
    "\n",
    "Zauważ, że dekorator *@interact* automatycznie wywnioskował, że potrzebujemy pola tekstowego dla kolumny i suwaka int dla x. \n",
    "\n",
    "Gdy potrzebujemy wymusić pewne ograniczenia interakcji, możemy ustawić dodatkowe opcje tworzonej funkcji, takie jak *dropdown* czy granice dla wielkości numerycznych - format to (start, stop, krok):"
   ]
  },
  {
   "cell_type": "code",
   "execution_count": null,
   "id": "538e2615",
   "metadata": {},
   "outputs": [],
   "source": [
    "@interact\n",
    "def show_titles_more_than(column=list(df.select_dtypes('number').columns), \n",
    "                          x=(1000, 5000, 100)):\n",
    "    display(HTML(f'<h3>Showing articles with more than {x} {column}<h3>'))\n",
    "    display(df.loc[df[column] > x])"
   ]
  },
  {
   "cell_type": "markdown",
   "id": "85f5772b",
   "metadata": {},
   "source": [
    "## Dataframe explorer"
   ]
  },
  {
   "cell_type": "markdown",
   "id": "1bf1a4b9",
   "metadata": {},
   "source": [
    "Stwórz funkcję z dekoratorem *@interact*, żeby szybko znajdować korelację między dwoma wybranymi kolumnami."
   ]
  },
  {
   "cell_type": "code",
   "execution_count": null,
   "id": "c8472339",
   "metadata": {},
   "outputs": [],
   "source": []
  },
  {
   "cell_type": "markdown",
   "id": "c5bbe64d",
   "metadata": {},
   "source": [
    "Stwórz funkcję z dekoratorem *@interact*, żeby wywołać funkcję *describe()* dla wybranej kolumny."
   ]
  },
  {
   "cell_type": "code",
   "execution_count": null,
   "id": "2f0b7d72",
   "metadata": {},
   "outputs": [],
   "source": []
  },
  {
   "cell_type": "markdown",
   "id": "418c04e1",
   "metadata": {},
   "source": [
    "## Widgety dla wykresów\n",
    "Widgety interaktywne są szczególnie przydatne przy wybieraniu danych do wykresu. W tym wypadku również możemy użyć tego samego dekoratora *@interact*, z funkcjami wizualizującymi nasze dane.\n",
    "\n",
    "**Uwaga.** Obiekt DataFrame nie ma metody iplot, jeśli nie jest połączony z plotly. Potrzebujemy **cufflinks**, aby połączyć pandas z plotly i dodać metodę iplot."
   ]
  },
  {
   "cell_type": "markdown",
   "id": "549b53e5",
   "metadata": {},
   "source": [
    "Dodatkowo, aby uniknąć uwierzytelniania, potrzebujemy trybu offline."
   ]
  },
  {
   "cell_type": "code",
   "execution_count": null,
   "id": "2a8ae9e6",
   "metadata": {},
   "outputs": [],
   "source": [
    "import cufflinks as cf\n",
    "cf.go_offline(connected=True)\n",
    "cf.set_config_file(colorscale='plotly', world_readable=True)"
   ]
  },
  {
   "cell_type": "code",
   "execution_count": null,
   "id": "d684471e",
   "metadata": {},
   "outputs": [],
   "source": [
    "from plotly.offline import iplot, init_notebook_mode\n",
    "init_notebook_mode(connected=True)"
   ]
  },
  {
   "cell_type": "code",
   "execution_count": null,
   "id": "65bf1945",
   "metadata": {},
   "outputs": [],
   "source": [
    "@interact\n",
    "def scatter_plot(x=list(df.select_dtypes('number').columns), \n",
    "                 y=list(df.select_dtypes('number').columns)[1:]):\n",
    "    df.iplot(kind='scatter', x=x, y=y, mode='markers', \n",
    "             xTitle=x.title(), yTitle=y.title(), title=f'{y.title()} vs {x.title()}')"
   ]
  },
  {
   "cell_type": "markdown",
   "id": "1af78359",
   "metadata": {},
   "source": [
    "Dodaj więcej opcji do funkcji scatter_plot:\n",
    "1. Parametr theme, korzystając z tych dostępnych w cf.themes.THEMES.keys()\n",
    "2. Parametr colorscale, korzystając z tych dostępnych w cf.colors.\\_scales\\_names.keys())"
   ]
  },
  {
   "cell_type": "code",
   "execution_count": null,
   "id": "3d97ffc3",
   "metadata": {},
   "outputs": [],
   "source": []
  },
  {
   "cell_type": "markdown",
   "id": "d5670ecf",
   "metadata": {},
   "source": [
    "Do funkcji scatter_plot dodaj parametr categories, grupujący nasze dane. Przetestuj jego działanie."
   ]
  },
  {
   "cell_type": "code",
   "execution_count": null,
   "id": "09b7b81c",
   "metadata": {},
   "outputs": [],
   "source": [
    "df['binned_read_time'] = pd.cut(df['read_time'], bins=range(0, 56, 5))\n",
    "df['binned_read_time'] = df['binned_read_time'].astype(str)\n",
    "\n",
    "df['binned_word_count'] = pd.cut(df['word_count'], bins=range(0, 100001, 1000))\n",
    "df['binned_word_count'] = df['binned_word_count'].astype(str)\n",
    "\n",
    "categories=['binned_read_time', 'binned_word_count', 'publication']"
   ]
  },
  {
   "cell_type": "code",
   "execution_count": null,
   "id": "3eb05c12",
   "metadata": {},
   "outputs": [],
   "source": []
  },
  {
   "cell_type": "markdown",
   "id": "8ffe72a8",
   "metadata": {},
   "source": [
    "Być może zauważyłeś, że aktualizacja wykresu przebiegała powoli. W takim przypadku możesz użyć dekoratora *@interact_manual*, który dostarcza przycisku do aktualizacji. \n",
    "\n",
    "Sprawdź działanie widgetu z dekoratorem *@interact_manual*."
   ]
  },
  {
   "cell_type": "code",
   "execution_count": null,
   "id": "10f75ad5",
   "metadata": {},
   "outputs": [],
   "source": [
    "from ipywidgets import interact_manual"
   ]
  },
  {
   "cell_type": "code",
   "execution_count": null,
   "id": "ed212669",
   "metadata": {},
   "outputs": [],
   "source": []
  },
  {
   "cell_type": "markdown",
   "id": "2dcb1c66",
   "metadata": {},
   "source": [
    "## Własne widgety\n",
    "Aby skorzystać jeszcze więcej z biblioteki ipywidgets, możemy sami tworzyć widgety i używać ich w funkcji interakcji.\n",
    "\n",
    "Stwórz własny widget. Napisz funkcję stats_for_article_published_between, która pobiera datę początkową i końcową, oraz wyświetla statystyki dla wszystkich artykułów opublikowanych między nimi."
   ]
  },
  {
   "cell_type": "code",
   "execution_count": null,
   "id": "076a7fdc",
   "metadata": {},
   "outputs": [],
   "source": [
    "df.set_index('published_date', inplace=True)"
   ]
  },
  {
   "cell_type": "code",
   "execution_count": null,
   "id": "57392607",
   "metadata": {},
   "outputs": [],
   "source": [
    "def stats_for_article_published_between(start_date, end_date):\n",
    "    ...\n",
    "    print(f'You published {num_articles} articles between {start_date.date()} and {end_date.date()}.')\n",
    "    print(f'These articles totalled {total_words:,} words and {total_read_time/60:.2f} hours to read.')"
   ]
  },
  {
   "cell_type": "markdown",
   "id": "c8333a4b",
   "metadata": {},
   "source": [
    "Za pomocą następującego kodu funkcja staje się interaktywna:"
   ]
  },
  {
   "cell_type": "code",
   "execution_count": null,
   "id": "e7a1b84b",
   "metadata": {},
   "outputs": [],
   "source": [
    "_ = interact(stats_for_article_published_between,\n",
    "             start_date=widgets.DatePicker(value=pd.to_datetime('2018-01-01')),\n",
    "             end_date=widgets.DatePicker(value=pd.to_datetime('2019-01-01')))"
   ]
  },
  {
   "cell_type": "markdown",
   "id": "328d9ecb",
   "metadata": {},
   "source": [
    "Napisz funkcję plot_up_to, aby narysować wykres kumulatywnej sumy wartości wybranej kolumny, do wybranego dnia.  \n",
    "\n",
    "Użyj Dropdown i DatePicker w funkcji *interact*."
   ]
  },
  {
   "cell_type": "code",
   "execution_count": null,
   "id": "f60cb27a",
   "metadata": {},
   "outputs": [],
   "source": [
    "def plot_up_to(column, date):\n",
    "    ..."
   ]
  },
  {
   "cell_type": "markdown",
   "id": "4ff28f2b",
   "metadata": {},
   "source": [
    "## Przeglądanie zdjęć"
   ]
  },
  {
   "cell_type": "markdown",
   "id": "24630340",
   "metadata": {},
   "source": [
    "Stwórz funkcję z dekoratorem *@interact*, żeby przeglądać zdjęcia znajdujące się w wybranym folderze. Folder z 3-5 zdjęciami również umieść na repozytorium."
   ]
  },
  {
   "cell_type": "code",
   "execution_count": null,
   "id": "a2de8881",
   "metadata": {},
   "outputs": [],
   "source": [
    "import os\n",
    "from IPython.display import Image"
   ]
  },
  {
   "cell_type": "code",
   "execution_count": null,
   "id": "f92ccc78",
   "metadata": {},
   "outputs": [],
   "source": []
  },
  {
   "cell_type": "markdown",
   "id": "44ae98fd",
   "metadata": {},
   "source": [
    "## Przeglądanie plików"
   ]
  },
  {
   "cell_type": "markdown",
   "id": "eed9135b",
   "metadata": {},
   "source": [
    "Stwórz funkcję z dekoratorem *@interact*, żeby przeglądać pliki znajdujące się w wybranych folderach.\n",
    "Skorzystaj z następujących (przykładowych) opcji komendy *ls*: **ls -a -t -r -l -h**. Więcej informacji znajduje się [tutaj](https://www.rapidtables.com/code/linux/ls.html)."
   ]
  },
  {
   "cell_type": "code",
   "execution_count": null,
   "id": "17c40c21",
   "metadata": {},
   "outputs": [],
   "source": [
    "import subprocess"
   ]
  },
  {
   "cell_type": "code",
   "execution_count": null,
   "id": "450c0e8a",
   "metadata": {},
   "outputs": [],
   "source": []
  },
  {
   "cell_type": "markdown",
   "id": "f3f06fc6",
   "metadata": {},
   "source": [
    "## Zależne widgety\n",
    "Jeśli chcemy opcje jednego widgetu uzależnić od wartości innego widgetu, używamy metody *observe*. \n",
    "\n",
    "Wykorzystaj metodę *observe*, żeby zmienić funkcję przeglądania zdjęć tak, by móc wybierać zarówno ścieżkę, jak i obraz do wyświetlenia. Drugi folder z 3-5 zdjęciami również umieść na repozytorium."
   ]
  },
  {
   "cell_type": "code",
   "execution_count": null,
   "id": "6a964559",
   "metadata": {},
   "outputs": [],
   "source": [
    "directory = widgets.Dropdown(options=[...])\n",
    "images = widgets.Dropdown(options=os.listdir(directory.value))\n",
    "\n",
    "def update_images(*args):\n",
    "    images.options = ...\n",
    "\n",
    "directory.observe(update_images, 'value')\n",
    "\n",
    "def show_images(fdir, file):\n",
    "    ...\n",
    "\n",
    "_ = interact(...)"
   ]
  },
  {
   "cell_type": "markdown",
   "id": "0949a222",
   "metadata": {},
   "source": [
    "Możemy również przypisać zmienną do outputu funkcji *interact*, a następnie ponownie użyć widgetu. Może mieć to jednak niezamierzone skutki!\n",
    "\n",
    "Teraz zmiana wartości w jednej lokalizacji zmienia ją w obu miejscach! Może to być drobna niedogodność, ale zaletą jest to, że możemy ponownie wykorzystać interaktywny element."
   ]
  },
  {
   "cell_type": "code",
   "execution_count": null,
   "id": "dd85b6e0",
   "metadata": {},
   "outputs": [],
   "source": [
    "dependent_widget = interact(show_images, fdir=directory, file=images)"
   ]
  },
  {
   "cell_type": "code",
   "execution_count": null,
   "id": "f23278f0",
   "metadata": {},
   "outputs": [],
   "source": [
    "dependent_widget.widget"
   ]
  },
  {
   "cell_type": "markdown",
   "id": "570928f7",
   "metadata": {},
   "source": [
    "## Wnioski"
   ]
  },
  {
   "cell_type": "code",
   "execution_count": null,
   "id": "9a3c4118",
   "metadata": {},
   "outputs": [],
   "source": []
  }
 ],
 "metadata": {
  "kernelspec": {
   "display_name": "Python 3",
   "language": "python",
   "name": "python3"
  },
  "language_info": {
   "codemirror_mode": {
    "name": "ipython",
    "version": 3
   },
   "file_extension": ".py",
   "mimetype": "text/x-python",
   "name": "python",
   "nbconvert_exporter": "python",
   "pygments_lexer": "ipython3",
   "version": "3.8.3"
  }
 },
 "nbformat": 4,
 "nbformat_minor": 5
}
